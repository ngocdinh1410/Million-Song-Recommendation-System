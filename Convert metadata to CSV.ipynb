{
 "cells": [
  {
   "cell_type": "code",
   "execution_count": 2,
   "metadata": {},
   "outputs": [],
   "source": [
    "import itertools\n",
    "import os\n",
    "import sys\n",
    "import glob\n",
    "import time\n",
    "import datetime\n",
    "import numpy as np\n",
    "import matplotlib.pyplot as plt\n",
    "import matplotlib as mpl\n",
    "import seaborn as sns; sns.set(color_codes=True)\n",
    "from pandas import DataFrame\n",
    "from sklearn import mixture\n",
    "from scipy import linalg\n",
    "from sklearn.cluster import KMeans\n",
    "from sklearn import datasets\n",
    "from sklearn.cluster import AgglomerativeClustering\n",
    "from sklearn.cluster import DBSCAN\n",
    "\n",
    "try:\n",
    "    import sqlite3\n",
    "except ImportError:\n",
    "    print ('you need sqlite3 installed to use this program')\n",
    "    sys.exit(0)\n",
    "    \n",
    "%matplotlib inline"
   ]
  },
  {
   "cell_type": "code",
   "execution_count": 3,
   "metadata": {},
   "outputs": [],
   "source": [
    "def encode_string(s):\n",
    "    \"\"\"\n",
    "    Simple utility function to make sure a string is proper\n",
    "    to be used in a SQLite query\n",
    "    (different than posgtresql, no N to specify unicode)\n",
    "    EXAMPLE:\n",
    "      That's my boy! -> 'That''s my boy!'\n",
    "    \"\"\"\n",
    "    return \"'\"+s.replace(\"'\",\"''\")+\"'\""
   ]
  },
  {
   "cell_type": "code",
   "execution_count": 4,
   "metadata": {},
   "outputs": [],
   "source": [
    "dbfile = 'track_metadata.db'"
   ]
  },
  {
   "cell_type": "code",
   "execution_count": 5,
   "metadata": {},
   "outputs": [],
   "source": [
    "# connect to the SQLite database\n",
    "conn = sqlite3.connect(dbfile)\n",
    "\n",
    "# from that connection, get a cursor to do queries\n",
    "c = conn.cursor()\n",
    "\n",
    "# so there is no confusion, the table name is 'songs'\n",
    "TABLENAME = 'songs'"
   ]
  },
  {
   "cell_type": "code",
   "execution_count": 6,
   "metadata": {},
   "outputs": [
    {
     "name": "stdout",
     "output_type": "stream",
     "text": [
      "*************** GENERAL SQLITE DEMO ***************************\n",
      "* tables contained in that SQLite file/database (should be only 'songs'):\n",
      "[('songs',)]\n"
     ]
    }
   ],
   "source": [
    "print ('*************** GENERAL SQLITE DEMO ***************************')\n",
    "\n",
    "# list all tables in that dataset\n",
    "# note that sqlite does the actual job when we call fetchall() or fetchone()\n",
    "q = \"SELECT name FROM sqlite_master WHERE type='table' ORDER BY name\"\n",
    "res = c.execute(q)\n",
    "print (\"* tables contained in that SQLite file/database (should be only 'songs'):\")\n",
    "print (res.fetchall())"
   ]
  },
  {
   "cell_type": "code",
   "execution_count": 7,
   "metadata": {},
   "outputs": [
    {
     "name": "stdout",
     "output_type": "stream",
     "text": [
      "* get info on columns names (original table creation command):\n",
      "CREATE TABLE songs (track_id text PRIMARY KEY, title text, song_id text, release text, artist_id text, artist_mbid text, artist_name text, duration real, artist_familiarity real, artist_hotttnesss real, year int, track_7digitalid int, shs_perf int, shs_work int)\n"
     ]
    }
   ],
   "source": [
    "# list all columns names from table 'songs'\n",
    "q = (\"SELECT sql FROM sqlite_master WHERE tbl_name = 'songs' AND type = 'table'\")\n",
    "res = c.execute(q)\n",
    "print ('* get info on columns names (original table creation command):')\n",
    "print (res.fetchall()[0][0])"
   ]
  },
  {
   "cell_type": "code",
   "execution_count": 8,
   "metadata": {},
   "outputs": [
    {
     "name": "stdout",
     "output_type": "stream",
     "text": [
      "* get the whole table:\n",
      "[('TRMMMYQ128F932D901', 'Silent Night', 'SOQMMHC12AB0180CB8', 'Monster Ballads X-Mas', 'ARYZTJS1187B98C555', '357ff05d-848a-44cf-b608-cb34b5701ae5', 'Faster Pussy cat', 252.05506, 0.649822100201, 0.394031892714, 2003, 7032331, -1, 0), ('TRMMMKD128F425225D', 'Tanssi vaan', 'SOVFVAK12A8C1350D9', 'Karkuteillä', 'ARMVN3U1187FB3A1EB', '8d7ef530-a6fd-4f8f-b2e2-74aec765e0f9', 'Karkkiautomaatti', 156.55138, 0.439603966677, 0.356992107756, 1995, 1514808, -1, 0), ('TRMMMRX128F93187D9', 'No One Could Ever', 'SOGTUKN12AB017F4F1', 'Butter', 'ARGEKB01187FB50750', '3d403d44-36ce-465c-ad43-ae877e65adc4', 'Hudson Mohawke', 138.97098, 0.643680572058, 0.437503836595, 2006, 6945353, -1, 0), ('TRMMMCH128F425532C', 'Si Vos Querés', 'SOBNYVR12A8C13558C', 'De Culo', 'ARNWYLR1187B9B2F9C', '12be7648-7094-495f-90e6-df4189d68615', 'Yerba Brava', 145.05751, 0.448501159656, 0.372349068517, 2003, 2168257, -1, 0), ('TRMMMWA128F426B589', 'Tangle Of Aspens', 'SOHSBXH12A8C13B0DF', 'Rene Ablaze Presents Winter Sessions', 'AREQDTE1269FB37231', '', 'Der Mystic', 514.29832, 0.0, 0.0, 0, 2264873, -1, 0)]\n"
     ]
    }
   ],
   "source": [
    "q=(\"SELECT * FROM songs LIMIT 5\")\n",
    "res = c.execute(q)\n",
    "print ('* get the whole table:')\n",
    "print (res.fetchall())"
   ]
  },
  {
   "cell_type": "code",
   "execution_count": 10,
   "metadata": {},
   "outputs": [
    {
     "name": "stdout",
     "output_type": "stream",
     "text": [
      "Exporting data into CSV............\n"
     ]
    }
   ],
   "source": [
    "import csv\n",
    "print (\"Exporting data into CSV............\")\n",
    "cursor = conn.cursor()\n",
    "cursor.execute(\"SELECT * FROM songs\")\n",
    "with open(\"full_metadata.csv\", \"w\") as csv_file:\n",
    "    csv_writer = csv.writer(csv_file, delimiter=\",\")\n",
    "    csv_writer.writerow([i[0] for i in cursor.description])\n",
    "    csv_writer.writerows(cursor)"
   ]
  },
  {
   "cell_type": "code",
   "execution_count": 11,
   "metadata": {},
   "outputs": [],
   "source": [
    "import pandas as pd"
   ]
  },
  {
   "cell_type": "code",
   "execution_count": 14,
   "metadata": {},
   "outputs": [
    {
     "name": "stdout",
     "output_type": "stream",
     "text": [
      "                                                          0\n",
      "0         b80344d063b5ccb3212f76538f3d9e43d87dca9e\\tSOAK...\n",
      "1         b80344d063b5ccb3212f76538f3d9e43d87dca9e\\tSOAP...\n",
      "2         b80344d063b5ccb3212f76538f3d9e43d87dca9e\\tSOBB...\n",
      "3         b80344d063b5ccb3212f76538f3d9e43d87dca9e\\tSOBF...\n",
      "4         b80344d063b5ccb3212f76538f3d9e43d87dca9e\\tSOBF...\n",
      "...                                                     ...\n",
      "48373581  b7815dbb206eb2831ce0fe040d0aa537e2e800f7\\tSOUH...\n",
      "48373582  b7815dbb206eb2831ce0fe040d0aa537e2e800f7\\tSOUJ...\n",
      "48373583  b7815dbb206eb2831ce0fe040d0aa537e2e800f7\\tSOUS...\n",
      "48373584  b7815dbb206eb2831ce0fe040d0aa537e2e800f7\\tSOWY...\n",
      "48373585  b7815dbb206eb2831ce0fe040d0aa537e2e800f7\\tSOYY...\n",
      "\n",
      "[48373586 rows x 1 columns]\n"
     ]
    }
   ],
   "source": []
  },
  {
   "cell_type": "code",
   "execution_count": null,
   "metadata": {},
   "outputs": [],
   "source": []
  }
 ],
 "metadata": {
  "kernelspec": {
   "display_name": "Python 3",
   "language": "python",
   "name": "python3"
  },
  "language_info": {
   "codemirror_mode": {
    "name": "ipython",
    "version": 3
   },
   "file_extension": ".py",
   "mimetype": "text/x-python",
   "name": "python",
   "nbconvert_exporter": "python",
   "pygments_lexer": "ipython3",
   "version": "3.7.4"
  }
 },
 "nbformat": 4,
 "nbformat_minor": 2
}
